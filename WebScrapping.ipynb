{
 "cells": [
  {
   "cell_type": "code",
   "execution_count": 6,
   "metadata": {},
   "outputs": [],
   "source": [
    "from bs4 import BeautifulSoup\n",
    "import requests"
   ]
  },
  {
   "cell_type": "code",
   "execution_count": null,
   "metadata": {},
   "outputs": [],
   "source": [
    "source = requests.get('https://www.foxnews.com/world/britain-eu-agree-to-delay-brexit-deadline-until-oct-31').text\n",
    "\n",
    "soup = BeautifulSoup(source, 'lxml')\n",
    "\n",
    "article = soup.find('article')\n",
    "# print(article.prettify())\n",
    "\n",
    "test = soup.find_all('p')\n",
    "print(len(test))"
   ]
  },
  {
   "cell_type": "code",
   "execution_count": 121,
   "metadata": {
    "scrolled": true
   },
   "outputs": [
    {
     "name": "stdout",
     "output_type": "stream",
     "text": [
      "0\n",
      "<p class=\"copyright\">\n",
      "      This material may not be published, broadcast, rewritten,\n",
      "      or redistributed. ©2019 FOX News Network, LLC. All rights reserved.\n",
      "      All market data delayed 20 minutes.\n",
      "    </p>\n",
      "1\n",
      "<p data-v-275a95fe=\"\"></p>\n",
      "2\n",
      "<p class=\"speakable\">European leaders and <a href=\"https://www.foxnews.com/world/may-defends-approaching-labour-on-brexit-deal-as-clock-ticks-down\" target=\"_blank\">British Prime Minister Theresa May</a> agreed Wednesday to push the final deadline for the <a href=\"https://www.foxnews.com/category/world/world-regions/europe/brexit\" target=\"_blank\">U.K. to depart the bloc</a> until Halloween, with European Council President Donald Tusk warning British politicians to \"not waste this time\" without ratifying a formal withdrawal agreement.</p>\n",
      "3\n",
      "<p class=\"speakable\">Britain had been due to leave the EU on Friday, but May rushed to an emergency summit in Brussels to plead with her European counterparts to hold off on saying goodbye for a couple more months. The prime minister had asked for a delay only until June 30, but Tusk said in a tweet that she had agreed to a longer \"flexible\" extension, which provides for Britain to leave any time before Oct. 31 provided Parliament ratifies a divorce deal and passes accompanying legislation to ensure a smooth transition out of the EU.</p>\n",
      "4\n",
      "<p>At a news conference late Wednesday, May said she wanted to leave the EU \"as soon as possible,\" and added that Brexit could still be accomplished before the end of June if lawmakers backed the withdrawal agreement she negotiated with EU leaders earlier this year.</p>\n",
      "5\n",
      "<p>\"The timetable is clear,\" said May, who had said earlier in the day she hoped the deal could be ratified as soon as May 22, which would avoid the need for Britain to participate in elections for the European Parliament.</p>\n",
      "6\n",
      "<p>May spoke to the 27 EU leaders for just over an hour before they met for dinner without her to decide Britain's fate. In contrast to some testy recent summits, there were signs of warmth and even humor. May and German Chancellor Angela Merkel were seen laughing over a tablet bearing an image showing the two of them speaking to their respective Parliaments on Wednesday wearing similar blue jackets.</p>\n",
      "7\n",
      "<p>Many leaders said they were inclined to grant a Brexit delay, though French President Emmanuel Macron had reservations after hearing May speak. An official in the French president's office said the British leader hadn't offered \"sufficient guarantees\" to justify a long extension.</p>\n",
      "8\n",
      "<p>Macron told reporters that he had agreed to the six-month extension \"to preserve the unity\" among the 27 member states and to give Britain \"more time to deliver a deal.\" He added that it was \"up to Britons to be clear with themselves and their people\" in next month's European elections.</p>\n",
      "9\n",
      "<p>The withdrawal agreement already has been rejected three times by the House of Commons, forcing May to scramble to find common ground with the main opposition Labour Party. Labour has indicated it favored a softer Brexit than the government has proposed and wanted to retain a close economic relationship with the bloc. Those efforts had yet to achieve a breakthrough, though the two sides said they would resume discussions Thursday.</p>\n",
      "10\n",
      "<p><a href=\"https://foxnews.onelink.me/xLDS?pid=AppArticleLink&amp;af_dp=foxnewsaf%3A%2F%2F&amp;af_web_dp=https%3A%2F%2Fwww.foxnews.com%2Fapps-products\" target=\"_blank\"><strong>CLICK HERE TO GET THE FOX NEWS APP</strong></a></p>\n",
      "11\n",
      "<p>As Britain's departure date of March 29 approached with no resolution in sight, the EU gave Britain until Friday to approve a withdrawal plan, change course and seek a further delay to Brexit, or crash out of the EU with no deal to cushion the shock. Economists and business leaders have warned that a no-deal Brexit would lead to huge disruptions in trade and travel, with tariffs and customs checks triggering gridlock at British ports and possible shortages of goods.</p>\n",
      "12\n",
      "<p>May said last month that \"as prime minister\" she could not agree to let Britain stay in the EU beyond June 30. She also has promised to step down once Brexit is delivered. Many Conservative Party lawmakers have said they'd like her to quit now and let a new leader take charge of the next stage of Brexit. But, they can't force her out until the end of the year after she survived a no-confidence vote in December.</p>\n",
      "13\n",
      "<p><em>The Associated Press contributed to this report.</em></p>\n",
      "14\n",
      "<p class=\"copyright\">This material may not be published, broadcast, rewritten, or redistributed. ©2019 FOX News Network, LLC. All rights reserved. All market data delayed 20 minutes.</p>\n"
     ]
    }
   ],
   "source": [
    "for i in range(len(test)):\n",
    "    print(str(i))\n",
    "    print(test[i])"
   ]
  },
  {
   "cell_type": "code",
   "execution_count": null,
   "metadata": {},
   "outputs": [],
   "source": []
  },
  {
   "cell_type": "code",
   "execution_count": null,
   "metadata": {},
   "outputs": [],
   "source": []
  }
 ],
 "metadata": {
  "kernelspec": {
   "display_name": "Python 3",
   "language": "python",
   "name": "python3"
  },
  "language_info": {
   "codemirror_mode": {
    "name": "ipython",
    "version": 3
   },
   "file_extension": ".py",
   "mimetype": "text/x-python",
   "name": "python",
   "nbconvert_exporter": "python",
   "pygments_lexer": "ipython3",
   "version": "3.7.3"
  }
 },
 "nbformat": 4,
 "nbformat_minor": 2
}
